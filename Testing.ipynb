{
 "cells": [
  {
   "cell_type": "markdown",
   "id": "936fb151",
   "metadata": {},
   "source": [
    "# Testing if Cuda is available"
   ]
  },
  {
   "cell_type": "code",
   "execution_count": null,
   "id": "378903bc",
   "metadata": {},
   "outputs": [],
   "source": [
    "import torch\n",
    "if torch.cuda.is_available():\n",
    "    print(f\"GPU: {torch.cuda.get_device_name(0)} is available.\")\n",
    "else:\n",
    "    print(\"No GPU available. Training will run on CPU.\")"
   ]
  }
 ],
 "metadata": {
  "kernelspec": {
   "display_name": "aidev",
   "language": "python",
   "name": "python3"
  },
  "language_info": {
   "codemirror_mode": {
    "name": "ipython",
    "version": 3
   },
   "file_extension": ".py",
   "mimetype": "text/x-python",
   "name": "python",
   "nbconvert_exporter": "python",
   "pygments_lexer": "ipython3",
   "version": "3.12.10"
  }
 },
 "nbformat": 4,
 "nbformat_minor": 5
}
